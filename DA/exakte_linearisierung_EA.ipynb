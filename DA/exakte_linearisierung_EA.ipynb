{
 "cells": [
  {
   "cell_type": "code",
   "execution_count": 4,
   "metadata": {
    "colab": {
     "base_uri": "https://localhost:8080/",
     "height": 360.0
    },
    "colab_type": "code",
    "id": "RdsEleiapxB_",
    "outputId": "31f99c73-906b-4c7c-d74e-ff3a58f059e9"
   },
   "outputs": [
    {
     "name": "stdout",
     "output_type": "stream",
     "text": [
      "Collecting symbtools\n",
      "  Downloading https://files.pythonhosted.org/packages/c5/e6/8de4905efa9064b704220f2a218690957d9037533000ff647acbd9787d2d/symbtools-0.2.6.tar.gz (91kB)\n",
      "Requirement already satisfied: sympy>=1.3 in d:\\programdata\\anaconda3\\lib\\site-packages (from symbtools) (1.3)\n",
      "Requirement already satisfied: numpy>=1.10.4 in d:\\programdata\\anaconda3\\lib\\site-packages (from symbtools) (1.16.2)\n",
      "Requirement already satisfied: scipy>=1.0 in d:\\programdata\\anaconda3\\lib\\site-packages (from symbtools) (1.2.1)\n",
      "Collecting ipydex>=0.8.2 (from symbtools)\n",
      "  Downloading https://files.pythonhosted.org/packages/28/8d/9c9aeadf226e7981d4b6ca9440e754056ab71a2070e92f43d672f9e6fc86/ipydex-0.8.2.tar.gz\n",
      "Requirement already satisfied: ipython>=5.0.0 in d:\\programdata\\anaconda3\\lib\\site-packages (from ipydex>=0.8.2->symbtools) (7.4.0)\n",
      "Requirement already satisfied: backcall in d:\\programdata\\anaconda3\\lib\\site-packages (from ipython>=5.0.0->ipydex>=0.8.2->symbtools) (0.1.0)\n",
      "Requirement already satisfied: pygments in d:\\programdata\\anaconda3\\lib\\site-packages (from ipython>=5.0.0->ipydex>=0.8.2->symbtools) (2.3.1)\n",
      "Requirement already satisfied: traitlets>=4.2 in d:\\programdata\\anaconda3\\lib\\site-packages (from ipython>=5.0.0->ipydex>=0.8.2->symbtools) (4.3.2)\n",
      "Requirement already satisfied: jedi>=0.10 in d:\\programdata\\anaconda3\\lib\\site-packages (from ipython>=5.0.0->ipydex>=0.8.2->symbtools) (0.13.3)\n",
      "Requirement already satisfied: pickleshare in d:\\programdata\\anaconda3\\lib\\site-packages (from ipython>=5.0.0->ipydex>=0.8.2->symbtools) (0.7.5)\n",
      "Requirement already satisfied: colorama; sys_platform == \"win32\" in d:\\programdata\\anaconda3\\lib\\site-packages (from ipython>=5.0.0->ipydex>=0.8.2->symbtools) (0.4.1)\n",
      "Requirement already satisfied: decorator in d:\\programdata\\anaconda3\\lib\\site-packages (from ipython>=5.0.0->ipydex>=0.8.2->symbtools) (4.4.0)\n",
      "Requirement already satisfied: setuptools>=18.5 in d:\\programdata\\anaconda3\\lib\\site-packages (from ipython>=5.0.0->ipydex>=0.8.2->symbtools) (40.8.0)\n",
      "Requirement already satisfied: prompt-toolkit<2.1.0,>=2.0.0 in d:\\programdata\\anaconda3\\lib\\site-packages (from ipython>=5.0.0->ipydex>=0.8.2->symbtools) (2.0.9)\n",
      "Requirement already satisfied: six in d:\\programdata\\anaconda3\\lib\\site-packages (from traitlets>=4.2->ipython>=5.0.0->ipydex>=0.8.2->symbtools) (1.12.0)\n",
      "Requirement already satisfied: ipython-genutils in d:\\programdata\\anaconda3\\lib\\site-packages (from traitlets>=4.2->ipython>=5.0.0->ipydex>=0.8.2->symbtools) (0.2.0)\n",
      "Requirement already satisfied: parso>=0.3.0 in d:\\programdata\\anaconda3\\lib\\site-packages (from jedi>=0.10->ipython>=5.0.0->ipydex>=0.8.2->symbtools) (0.3.4)\n",
      "Requirement already satisfied: wcwidth in d:\\programdata\\anaconda3\\lib\\site-packages (from prompt-toolkit<2.1.0,>=2.0.0->ipython>=5.0.0->ipydex>=0.8.2->symbtools) (0.1.7)\n",
      "Building wheels for collected packages: symbtools, ipydex\n",
      "  Building wheel for symbtools (setup.py): started\n",
      "  Building wheel for symbtools (setup.py): finished with status 'done'\n",
      "  Stored in directory: C:\\Users\\sam\\AppData\\Local\\pip\\Cache\\wheels\\61\\15\\4d\\1c8829f742a0fe154f84b27e6c974d83f03ebeda6f4904537f\n",
      "  Building wheel for ipydex (setup.py): started\n",
      "  Building wheel for ipydex (setup.py): finished with status 'done'\n",
      "  Stored in directory: C:\\Users\\sam\\AppData\\Local\\pip\\Cache\\wheels\\fe\\b6\\84\\7426c715b658d40dd67d72902edac16f5be2f85c4888ac55a6\n",
      "Successfully built symbtools ipydex\n",
      "Installing collected packages: ipydex, symbtools\n",
      "Successfully installed ipydex-0.8.2 symbtools-0.2.6\n"
     ]
    }
   ],
   "source": [
    "import sympy as sp\n",
    "!pip install symbtools\n",
    "import symbtools as st\n"
   ]
  },
  {
   "cell_type": "code",
   "execution_count": 5,
   "metadata": {
    "colab": {
     "base_uri": "https://localhost:8080/",
     "height": 34.0
    },
    "colab_type": "code",
    "id": "iGpmC57IjID0",
    "outputId": "34dc8aa1-edb1-4021-b813-a63a182b2fd8"
   },
   "outputs": [
    {
     "name": "stdout",
     "output_type": "stream",
     "text": [
      "(x1, x2, x3) u_pwm\n"
     ]
    }
   ],
   "source": [
    "x1, x2, x3= xx = sp.symbols('x1:4') \n",
    "u = sp.Symbol(\"u_pwm\")\n",
    "print(xx,u)"
   ]
  },
  {
   "cell_type": "code",
   "execution_count": 65,
   "metadata": {
    "colab": {},
    "colab_type": "code",
    "id": "Qj4KidIJj5mX"
   },
   "outputs": [],
   "source": [
    "#A_B,A_SP,m,g,T_M,k_M,k_V,k_L,eta_0,h_ub, h_lb,eta_ub,eta_lb,T,N_pred,state_r,input_r,h,h_p,eta,u_pwm = sp.symbols('A_B,A_SP,m,g,T_M,k_M,k_V,k_L,eta_0,h_ub, h_lb,eta_ub,eta_lb,T,N_pred,state_r,input_r,h,h_p,eta,u_pwm')\n",
    "A_B= 2.8274e-3  # [m**2]\n",
    "A_SP = 0.4299e-3  # [m**2]\n",
    "m = 2.8e-3  # [kg]\n",
    "g = 9.81  # [m/(s**2)]\n",
    "T_M = 0.57  # [s]\n",
    "k_M = 0.31  # [s**-1]\n",
    "k_V = 6e-5  # [m**3]\n",
    "k_L = 2.18e-4  # [kg/m]\n",
    "eta_0 = 1900 / 60  # / 60 * 2 * pi\n",
    "h_r,h_pr,eta_r=sp.symbols('h_r,h_pr,eta_r')\n",
    "h_r=0.8"
   ]
  },
  {
   "cell_type": "code",
   "execution_count": 66,
   "metadata": {
    "colab": {
     "base_uri": "https://localhost:8080/",
     "height": 34.0
    },
    "colab_type": "code",
    "id": "UP85Ufkfj_wc",
    "outputId": "ef01875a-0c68-4318-c893-4dee50632197"
   },
   "outputs": [
    {
     "name": "stdout",
     "output_type": "stream",
     "text": [
      "Matrix([[x2], [0.0778571428571429*(-6.57687834380088*x2 + 0.139567341242149*x3 + 4.41963247266806)**2 - 9.81], [-1.75438596491228*x3]])\n"
     ]
    }
   ],
   "source": [
    "f = sp.Matrix([x2, k_L / m * ((k_V * (x3 + eta_0) - A_B * x2) / A_SP)**2 - g, -1 / T_M * x3 ])\n",
    "print(f)"
   ]
  },
  {
   "cell_type": "code",
   "execution_count": 67,
   "metadata": {
    "colab": {
     "base_uri": "https://localhost:8080/",
     "height": 34.0
    },
    "colab_type": "code",
    "id": "NEn6UZ_Xja-T",
    "outputId": "4ade0a2e-ae68-4cf4-c6b8-98d950a54a43"
   },
   "outputs": [
    {
     "name": "stdout",
     "output_type": "stream",
     "text": [
      "Matrix([[0], [0], [0.543859649122807*u_pwm]])\n"
     ]
    }
   ],
   "source": [
    "g = sp.Matrix([0, 0,  k_M / T_M * u])\n",
    "print(g)"
   ]
  },
  {
   "cell_type": "code",
   "execution_count": 68,
   "metadata": {
    "colab": {},
    "colab_type": "code",
    "id": "8LAqogglkaUz"
   },
   "outputs": [],
   "source": [
    "y=h=x1"
   ]
  },
  {
   "cell_type": "code",
   "execution_count": 69,
   "metadata": {
    "colab": {
     "base_uri": "https://localhost:8080/",
     "height": 156.0
    },
    "colab_type": "code",
    "id": "ky54e4A7ke1g",
    "outputId": "8a904d2f-9ba5-4902-eeea-033d25c56c77"
   },
   "outputs": [
    {
     "name": "stdout",
     "output_type": "stream",
     "text": [
      "-1.75438596491228*x3*(-0.142932856041132*x2 + 0.00303316522687554*x3 + 0.0960502321843922) + (0.0778571428571429*(-6.57687834380088*x2 + 0.139567341242149*x3 + 4.41963247266806)**2 - 9.81)*(6.7354726195116*x2 - 0.142932856041132*x3 - 4.52620710796917)\n"
     ]
    }
   ],
   "source": [
    "Lfh = st.lie_deriv(h, f, xx) ##:\n",
    "Lf2h = st.lie_deriv(h, f, xx, 2) ##:\n",
    "Lf3h = st.lie_deriv(h, f, xx, 3) ##:\n",
    "print(Lf3h)"
   ]
  },
  {
   "cell_type": "code",
   "execution_count": 70,
   "metadata": {
    "colab": {
     "base_uri": "https://localhost:8080/",
     "height": 136.0
    },
    "colab_type": "code",
    "id": "2V9yhXwtkgwa",
    "outputId": "d9f88c21-b42c-428b-8d56-0862fc133b88"
   },
   "outputs": [
    {
     "name": "stdout",
     "output_type": "stream",
     "text": [
      "LgLf2h 0.543859649122807*u_pwm*(-0.142932856041132*x2 + 0.00303316522687554*x3 + 0.0960502321843922)\n"
     ]
    }
   ],
   "source": [
    "Lgh = st.lie_deriv(h, g, xx) ##:\n",
    "LgLfh = st.lie_deriv(Lfh, g, xx) ##:\n",
    "Lf2h = st.lie_deriv(h, f, xx, 2) ##:\n",
    "LgLf2h=st.lie_deriv(Lf2h, g, xx) \n",
    "print(\"LgLf2h\",LgLf2h)"
   ]
  },
  {
   "cell_type": "markdown",
   "metadata": {
    "colab_type": "text",
    "id": "rwFAdCvEmVm8"
   },
   "source": [
    "Relative Grad= 3"
   ]
  },
  {
   "cell_type": "code",
   "execution_count": 71,
   "metadata": {
    "colab": {
     "base_uri": "https://localhost:8080/",
     "height": 34.0
    },
    "colab_type": "code",
    "id": "SAN9GkxrlSHG",
    "outputId": "156fe92c-5e54-4be8-ead4-4b9091b4e93d"
   },
   "outputs": [
    {
     "name": "stdout",
     "output_type": "stream",
     "text": [
      "Matrix([[x1], [x2], [0.0778571428571429*(-6.57687834380088*x2 + 0.139567341242149*x3 + 4.41963247266806)**2 - 9.81]])\n"
     ]
    }
   ],
   "source": [
    "T=sp.Matrix([h,Lfh,Lf2h])\n",
    "print(T)"
   ]
  },
  {
   "cell_type": "code",
   "execution_count": 72,
   "metadata": {
    "colab": {
     "base_uri": "https://localhost:8080/",
     "height": 510.0
    },
    "colab_type": "code",
    "id": "lo9Aq4pvneWQ",
    "outputId": "423e896c-c4ea-4d51-d3c6-2b43f86e4af1"
   },
   "outputs": [
    {
     "name": "stdout",
     "output_type": "stream",
     "text": [
      "res (z1, z2, 47.1233333333334*z2 - 2.56783411036396*sqrt(100.0*z3 + 981.0) - 31.6666666666667)\n",
      "x_z_beziehung [(x1, z1), (x2, z2), (x3, 47.1233333333334*z2 - 2.56783411036396*sqrt(100.0*z3 + 981.0) - 31.6666666666667)]\n"
     ]
    }
   ],
   "source": [
    "zz = st.symb_vector(\"z1:4\")\n",
    "\n",
    "res = sp.solve(T-zz, xx)[0]\n",
    "x_z_beziehung = st.lzip(xx, res)\n",
    "print(\"res\",res)\n",
    "print(\"x_z_beziehung\",x_z_beziehung)"
   ]
  },
  {
   "cell_type": "code",
   "execution_count": 73,
   "metadata": {
    "colab": {},
    "colab_type": "code",
    "id": "gxZbkHDdnxcw"
   },
   "outputs": [
    {
     "name": "stdout",
     "output_type": "stream",
     "text": [
      "Matrix([[z2], [0.0778571428571429*(-1.24344978758018e-14*z2 + 0.358385779534397*sqrt(100.0*z3 + 981.0) + 7.99360577730113e-15)**2 - 9.81], [(0.0778571428571429*(-1.24344978758018e-14*z2 + 0.358385779534397*sqrt(100.0*z3 + 981.0) + 7.99360577730113e-15)**2 - 9.81)*(-1.33226762955019e-14*z2 + 0.367027863234159*sqrt(100.0*z3 + 981.0) + 7.99360577730113e-15) - (-2.4980018054066e-16*z2 + 0.00778866513194084*sqrt(100.0*z3 + 981.0) + 1.66533453693773e-16)*(0.543859649122807*u_pwm**2 - 82.6725146198832*z2 + 4.50497212344554*sqrt(100.0*z3 + 981.0) + 55.5555555555557)]])\n"
     ]
    }
   ],
   "source": [
    "z_dot_tmp = T.jacobian(xx)*(f + g*u) \n",
    "\n",
    "z_dot = z_dot_tmp.subs(x_z_beziehung)\n",
    "z_dot.simplify()\n",
    "z_dot\n",
    "print(z_dot)"
   ]
  },
  {
   "cell_type": "code",
   "execution_count": 74,
   "metadata": {},
   "outputs": [
    {
     "name": "stdout",
     "output_type": "stream",
     "text": [
      "(alpha0, alpha1, alpha2, alpha3) u_{input}\n"
     ]
    }
   ],
   "source": [
    "a0,a1,a2,a3=alpha=sp.symbols('alpha0:4')\n",
    "u_input=sp.Symbol('u_{input}')\n",
    "w=sp.Symbol('w') #Führungsgröße\n",
    "print(alpha,u_input)"
   ]
  },
  {
   "cell_type": "code",
   "execution_count": 75,
   "metadata": {},
   "outputs": [
    {
     "data": {
      "text/plain": [
       "1.83870967741935*(-alpha0*x1 + 0.8*alpha0 - alpha1*x2 - alpha2*(0.0778571428571429*(-6.57687834380088*x2 + 0.139567341242149*x3 + 4.41963247266806)**2 - 9.81) - alpha3*(-1.75438596491228*x3*(-0.142932856041132*x2 + 0.00303316522687554*x3 + 0.0960502321843922) + (0.0778571428571429*(-6.57687834380088*x2 + 0.139567341242149*x3 + 4.41963247266806)**2 - 9.81)*(6.7354726195116*x2 - 0.142932856041132*x3 - 4.52620710796917)))/(u_pwm*(-0.142932856041132*x2 + 0.00303316522687554*x3 + 0.0960502321843922))"
      ]
     },
     "execution_count": 75,
     "metadata": {},
     "output_type": "execute_result"
    }
   ],
   "source": [
    "u_input=1/(LgLf2h)*(a0*w-(a0*h+a1*Lfh+a2*Lf2h+a3*Lf3h))\n",
    "u_input.subs([(w,0.8)])\n"
   ]
  },
  {
   "cell_type": "code",
   "execution_count": 76,
   "metadata": {},
   "outputs": [
    {
     "name": "stdout",
     "output_type": "stream",
     "text": [
      "s**3 + 22*s**2 + 155*s + 350\n"
     ]
    }
   ],
   "source": [
    "s=sp.Symbol('s')\n",
    "nenner=(s+10)*(s+5)*(s+7)\n",
    "print(sp.expand(nenner))\n",
    "#print(nenner.subs([(a0,10),(a1,2),(a2,3)]))\n",
    "#sp.expand(sp.solve(nenner.subs([(a0,10),(a1,2),(a2,3)]),s)[0])"
   ]
  },
  {
   "cell_type": "code",
   "execution_count": 88,
   "metadata": {},
   "outputs": [
    {
     "data": {
      "text/plain": [
       "(-643.548387096774*x1 - 41.7079953268847*x2**3 + 2.65524480400342*x2**2*x3 - 52.1476134356049*x2**2 - 0.0563467101365937*x2*x3**2 + 1.75216585924582*x2*x3 - 36.9181340001961*x2 + 0.000398576148663745*x3**3 - 0.0136990747338284*x3**2 - 4.9546834104035*x3 + 781.164489961175)/(u_pwm*(-0.142932856041132*x2 + 0.00303316522687554*x3 + 0.0960502321843922))"
      ]
     },
     "execution_count": 88,
     "metadata": {},
     "output_type": "execute_result"
    }
   ],
   "source": [
    "sp.simplify(sp.expand(u_input.subs([(w,h_r),(a3,1),(a2,22),(a1,155),(a0,350)])))"
   ]
  },
  {
   "cell_type": "code",
   "execution_count": null,
   "metadata": {},
   "outputs": [],
   "source": []
  },
  {
   "cell_type": "code",
   "execution_count": null,
   "metadata": {},
   "outputs": [],
   "source": []
  },
  {
   "cell_type": "code",
   "execution_count": null,
   "metadata": {},
   "outputs": [],
   "source": []
  }
 ],
 "metadata": {
  "colab": {
   "collapsed_sections": [],
   "name": "exakte_linearisierung_EA.ipynb",
   "provenance": [],
   "version": "0.3.2"
  },
  "kernelspec": {
   "display_name": "Python 3",
   "language": "python",
   "name": "python3"
  },
  "language_info": {
   "codemirror_mode": {
    "name": "ipython",
    "version": 3
   },
   "file_extension": ".py",
   "mimetype": "text/x-python",
   "name": "python",
   "nbconvert_exporter": "python",
   "pygments_lexer": "ipython3",
   "version": "3.7.3"
  }
 },
 "nbformat": 4,
 "nbformat_minor": 1
}
