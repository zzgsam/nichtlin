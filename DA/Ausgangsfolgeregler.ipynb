{
 "cells": [
  {
   "cell_type": "code",
   "execution_count": 39,
   "metadata": {
    "colab": {
     "base_uri": "https://localhost:8080/",
     "height": 360.0
    },
    "colab_type": "code",
    "id": "RdsEleiapxB_",
    "outputId": "31f99c73-906b-4c7c-d74e-ff3a58f059e9"
   },
   "outputs": [],
   "source": [
    "import sympy as sp\n",
    "import symbtools as st\n"
   ]
  },
  {
   "cell_type": "code",
   "execution_count": 40,
   "metadata": {
    "colab": {
     "base_uri": "https://localhost:8080/",
     "height": 34.0
    },
    "colab_type": "code",
    "id": "iGpmC57IjID0",
    "outputId": "34dc8aa1-edb1-4021-b813-a63a182b2fd8"
   },
   "outputs": [
    {
     "name": "stdout",
     "output_type": "stream",
     "text": [
      "(x1, x2, x3) u_pwm\n"
     ]
    }
   ],
   "source": [
    "x1, x2, x3= xx = sp.symbols('x1:4') \n",
    "u = sp.Symbol(\"u_pwm\")\n",
    "print(xx,u)"
   ]
  },
  {
   "cell_type": "code",
   "execution_count": 41,
   "metadata": {
    "colab": {},
    "colab_type": "code",
    "id": "Qj4KidIJj5mX"
   },
   "outputs": [],
   "source": [
    "#A_B,A_SP,m,g,T_M,k_M,k_V,k_L,eta_0,h_ub, h_lb,eta_ub,eta_lb,T,N_pred,state_r,input_r,h,h_p,eta,u_pwm = sp.symbols('A_B,A_SP,m,g,T_M,k_M,k_V,k_L,eta_0,h_ub, h_lb,eta_ub,eta_lb,T,N_pred,state_r,input_r,h,h_p,eta,u_pwm')\n",
    "A_B= 2.8274e-3  # [m**2]\n",
    "A_SP = 0.4299e-3  # [m**2]\n",
    "m = 2.8e-3  # [kg]\n",
    "g = 9.81  # [m/(s**2)]\n",
    "T_M = 0.57  # [s]\n",
    "k_M = 0.31  # [s**-1]\n",
    "k_V = 6e-5  # [m**3]\n",
    "k_L = 2.18e-4  # [kg/m]\n",
    "eta_0 = 1900 / 60  # / 60 * 2 * pi\n",
    "h_r,h_pr,eta_r=sp.symbols('h_r,h_pr,eta_r')\n",
    "h_r=0.8"
   ]
  },
  {
   "cell_type": "code",
   "execution_count": 42,
   "metadata": {
    "colab": {
     "base_uri": "https://localhost:8080/",
     "height": 34.0
    },
    "colab_type": "code",
    "id": "UP85Ufkfj_wc",
    "outputId": "ef01875a-0c68-4318-c893-4dee50632197"
   },
   "outputs": [
    {
     "name": "stdout",
     "output_type": "stream",
     "text": [
      "Matrix([[x2], [0.0778571428571429*(-6.57687834380088*x2 + 0.139567341242149*x3 + 4.41963247266806)**2 - 9.81], [-1.75438596491228*x3]])\n"
     ]
    }
   ],
   "source": [
    "f = sp.Matrix([x2, k_L / m * ((k_V * (x3 + eta_0) - A_B * x2) / A_SP)**2 - g, -1 / T_M * x3 ])\n",
    "print(f)"
   ]
  },
  {
   "cell_type": "code",
   "execution_count": 43,
   "metadata": {
    "colab": {
     "base_uri": "https://localhost:8080/",
     "height": 34.0
    },
    "colab_type": "code",
    "id": "NEn6UZ_Xja-T",
    "outputId": "4ade0a2e-ae68-4cf4-c6b8-98d950a54a43"
   },
   "outputs": [
    {
     "name": "stdout",
     "output_type": "stream",
     "text": [
      "Matrix([[0], [0], [0.543859649122807*u_pwm]])\n"
     ]
    }
   ],
   "source": [
    "g = sp.Matrix([0, 0,  k_M / T_M * u])\n",
    "print(g)"
   ]
  },
  {
   "cell_type": "code",
   "execution_count": 44,
   "metadata": {
    "colab": {},
    "colab_type": "code",
    "id": "8LAqogglkaUz"
   },
   "outputs": [],
   "source": [
    "y=h=x1\n",
    "y_r=0.8"
   ]
  },
  {
   "cell_type": "code",
   "execution_count": 45,
   "metadata": {
    "colab": {
     "base_uri": "https://localhost:8080/",
     "height": 156.0
    },
    "colab_type": "code",
    "id": "ky54e4A7ke1g",
    "outputId": "8a904d2f-9ba5-4902-eeea-033d25c56c77"
   },
   "outputs": [
    {
     "name": "stdout",
     "output_type": "stream",
     "text": [
      "-1.75438596491228*x3*(-0.142932856041132*x2 + 0.00303316522687554*x3 + 0.0960502321843922) + (0.0778571428571429*(-6.57687834380088*x2 + 0.139567341242149*x3 + 4.41963247266806)**2 - 9.81)*(6.7354726195116*x2 - 0.142932856041132*x3 - 4.52620710796917)\n"
     ]
    }
   ],
   "source": [
    "Lfh = st.lie_deriv(h, f, xx) ##:\n",
    "Lf2h = st.lie_deriv(h, f, xx, 2) ##:\n",
    "Lf3h = st.lie_deriv(h, f, xx, 3) ##:\n",
    "print(Lf3h)"
   ]
  },
  {
   "cell_type": "code",
   "execution_count": 46,
   "metadata": {
    "colab": {
     "base_uri": "https://localhost:8080/",
     "height": 136.0
    },
    "colab_type": "code",
    "id": "2V9yhXwtkgwa",
    "outputId": "d9f88c21-b42c-428b-8d56-0862fc133b88"
   },
   "outputs": [
    {
     "name": "stdout",
     "output_type": "stream",
     "text": [
      "LgLf2h 0.543859649122807*u_pwm*(-0.142932856041132*x2 + 0.00303316522687554*x3 + 0.0960502321843922)\n"
     ]
    }
   ],
   "source": [
    "Lgh = st.lie_deriv(h, g, xx) ##:\n",
    "LgLfh = st.lie_deriv(Lfh, g, xx) ##:\n",
    "Lf2h = st.lie_deriv(h, f, xx, 2) ##:\n",
    "LgLf2h=st.lie_deriv(Lf2h, g, xx) \n",
    "print(\"LgLf2h\",LgLf2h)"
   ]
  },
  {
   "cell_type": "markdown",
   "metadata": {
    "colab_type": "text",
    "id": "rwFAdCvEmVm8"
   },
   "source": [
    "Relative Grad= 3"
   ]
  },
  {
   "cell_type": "code",
   "execution_count": 47,
   "metadata": {
    "colab": {
     "base_uri": "https://localhost:8080/",
     "height": 34.0
    },
    "colab_type": "code",
    "id": "SAN9GkxrlSHG",
    "outputId": "156fe92c-5e54-4be8-ead4-4b9091b4e93d"
   },
   "outputs": [
    {
     "name": "stdout",
     "output_type": "stream",
     "text": [
      "Matrix([[x1], [x2], [0.0778571428571429*(-6.57687834380088*x2 + 0.139567341242149*x3 + 4.41963247266806)**2 - 9.81]])\n"
     ]
    }
   ],
   "source": [
    "T=sp.Matrix([h,Lfh,Lf2h])\n",
    "print(T)"
   ]
  },
  {
   "cell_type": "code",
   "execution_count": 48,
   "metadata": {
    "colab": {
     "base_uri": "https://localhost:8080/",
     "height": 510.0
    },
    "colab_type": "code",
    "id": "lo9Aq4pvneWQ",
    "outputId": "423e896c-c4ea-4d51-d3c6-2b43f86e4af1"
   },
   "outputs": [
    {
     "name": "stdout",
     "output_type": "stream",
     "text": [
      "res (z1, z2, 47.1233333333334*z2 - 2.56783411036396*sqrt(100.0*z3 + 981.0) - 31.6666666666667)\n",
      "x_z_beziehung [(x1, z1), (x2, z2), (x3, 47.1233333333334*z2 - 2.56783411036396*sqrt(100.0*z3 + 981.0) - 31.6666666666667)]\n"
     ]
    }
   ],
   "source": [
    "zz = st.symb_vector(\"z1:4\")\n",
    "\n",
    "res = sp.solve(T-zz, xx)[0]\n",
    "x_z_beziehung = st.lzip(xx, res)\n",
    "print(\"res\",res)\n",
    "print(\"x_z_beziehung\",x_z_beziehung)"
   ]
  },
  {
   "cell_type": "code",
   "execution_count": 49,
   "metadata": {
    "colab": {},
    "colab_type": "code",
    "id": "gxZbkHDdnxcw"
   },
   "outputs": [
    {
     "name": "stdout",
     "output_type": "stream",
     "text": [
      "Matrix([[z2], [0.0778571428571429*(-1.24344978758018e-14*z2 + 0.358385779534397*sqrt(100.0*z3 + 981.0) + 7.99360577730113e-15)**2 - 9.81], [(0.0778571428571429*(-1.24344978758018e-14*z2 + 0.358385779534397*sqrt(100.0*z3 + 981.0) + 7.99360577730113e-15)**2 - 9.81)*(-1.33226762955019e-14*z2 + 0.367027863234159*sqrt(100.0*z3 + 981.0) + 7.99360577730113e-15) - (-2.4980018054066e-16*z2 + 0.00778866513194084*sqrt(100.0*z3 + 981.0) + 1.66533453693773e-16)*(0.543859649122807*u_pwm**2 - 82.6725146198832*z2 + 4.50497212344554*sqrt(100.0*z3 + 981.0) + 55.5555555555557)]])\n"
     ]
    }
   ],
   "source": [
    "z_dot_tmp = T.jacobian(xx)*(f + g*u) \n",
    "\n",
    "z_dot = z_dot_tmp.subs(x_z_beziehung)\n",
    "z_dot.simplify()\n",
    "z_dot\n",
    "print(z_dot)"
   ]
  },
  {
   "cell_type": "code",
   "execution_count": 50,
   "metadata": {},
   "outputs": [
    {
     "name": "stdout",
     "output_type": "stream",
     "text": [
      "(alpha0, alpha1, alpha2, alpha3) u_{input}\n"
     ]
    }
   ],
   "source": [
    "a0,a1,a2,a3=alpha=sp.symbols('alpha0:4')\n",
    "u_input=sp.Symbol('u_{input}')\n",
    "w=sp.Symbol('w') #Führungsgröße\n",
    "print(alpha,u_input)"
   ]
  },
  {
   "cell_type": "code",
   "execution_count": 51,
   "metadata": {},
   "outputs": [
    {
     "data": {
      "text/plain": [
       "1.83870967741935*(-alpha0*x1 + 0.8*alpha0 - alpha1*x2 - alpha2*(0.0778571428571429*(-6.57687834380088*x2 + 0.139567341242149*x3 + 4.41963247266806)**2 - 9.81) - alpha3*(-1.75438596491228*x3*(-0.142932856041132*x2 + 0.00303316522687554*x3 + 0.0960502321843922) + (0.0778571428571429*(-6.57687834380088*x2 + 0.139567341242149*x3 + 4.41963247266806)**2 - 9.81)*(6.7354726195116*x2 - 0.142932856041132*x3 - 4.52620710796917)))/(u_pwm*(-0.142932856041132*x2 + 0.00303316522687554*x3 + 0.0960502321843922))"
      ]
     },
     "execution_count": 51,
     "metadata": {},
     "output_type": "execute_result"
    }
   ],
   "source": [
    "u_input=1/(LgLf2h)*(a0*w-(a0*h+a1*Lfh+a2*Lf2h+a3*Lf3h))\n",
    "u_input.subs([(w,y_r)])\n"
   ]
  },
  {
   "cell_type": "code",
   "execution_count": 52,
   "metadata": {},
   "outputs": [
    {
     "name": "stdout",
     "output_type": "stream",
     "text": [
      "s**3 + 22*s**2 + 155*s + 350\n"
     ]
    }
   ],
   "source": [
    "s=sp.Symbol('s')\n",
    "nenner=(s+10)*(s+5)*(s+7)\n",
    "print(sp.expand(nenner))\n",
    "#print(nenner.subs([(a0,10),(a1,2),(a2,3)]))\n",
    "#sp.expand(sp.solve(nenner.subs([(a0,10),(a1,2),(a2,3)]),s)[0])"
   ]
  },
  {
   "cell_type": "code",
   "execution_count": 53,
   "metadata": {},
   "outputs": [
    {
     "data": {
      "text/plain": [
       "(-643.548387096774*x1 - 41.7079953268847*x2**3 + 2.65524480400342*x2**2*x3 - 52.1476134356049*x2**2 - 0.0563467101365937*x2*x3**2 + 1.75216585924582*x2*x3 - 36.9181340001961*x2 + 0.000398576148663745*x3**3 - 0.0136990747338284*x3**2 - 4.9546834104035*x3 + 781.164489961175)/(u_pwm*(-0.142932856041132*x2 + 0.00303316522687554*x3 + 0.0960502321843922))"
      ]
     },
     "execution_count": 53,
     "metadata": {},
     "output_type": "execute_result"
    }
   ],
   "source": [
    "sp.simplify(sp.expand(u_input.subs([(w,h_r),(a3,1),(a2,22),(a1,155),(a0,350)])))"
   ]
  },
  {
   "cell_type": "code",
   "execution_count": 72,
   "metadata": {},
   "outputs": [
    {
     "name": "stdout",
     "output_type": "stream",
     "text": [
      "28.0*t**4/T_tra**4 - 67.2*t**5/T_tra**5 + 56.0*t**6/T_tra**6 - 16.0*t**7/T_tra**7\n",
      "0\n"
     ]
    }
   ],
   "source": [
    "rg = 3 #relative_grade\n",
    "\n",
    "y_end = y_r\n",
    "t=sp.Symbol('t')\n",
    "T_tra=sp.Symbol('T_tra')\n",
    "y_poly=sp.Symbol('y_poly')\n",
    "y_poly = 0\n",
    "for i in range(rg+1):\n",
    "    y_poly=y_poly+y_r*sp.factorial(2*rg+1)/(sp.factorial(rg)*T_tra**(2*rg+1))*((-1)**(rg-i)/(sp.factorial(i)*sp.factorial(rg-i)*(2*rg-i+1))*T_tra**i*t**(2*rg-i+1))\n",
    "print(y_poly)\n",
    "y_poly.subs([(t,T_tra)])\n",
    "print(sp.diff(y_poly,t,1).subs([(t,0)]))"
   ]
  },
  {
   "cell_type": "code",
   "execution_count": null,
   "metadata": {},
   "outputs": [
    {
     "ename": "TypeError",
     "evalue": "factorial takes exactly 1 argument (0 given)",
     "traceback": [
      "\u001b[1;31m---------------------------------------------------------------------------\u001b[0m",
      "\u001b[1;31mTypeError\u001b[0m                                 Traceback (most recent call last)",
      "\u001b[1;32m<ipython-input-37-ddcddfcd056d>\u001b[0m in \u001b[0;36m<module>\u001b[1;34m\u001b[0m\n\u001b[1;32m----> 1\u001b[1;33m \u001b[0msp\u001b[0m\u001b[1;33m.\u001b[0m\u001b[0mfactorial\u001b[0m\u001b[1;33m(\u001b[0m\u001b[1;33m)\u001b[0m\u001b[1;33m\u001b[0m\u001b[1;33m\u001b[0m\u001b[0m\n\u001b[0m",
      "\u001b[1;32mD:\\ProgramData\\Anaconda3\\lib\\site-packages\\sympy\\core\\function.py\u001b[0m in \u001b[0;36m__new__\u001b[1;34m(cls, *args, **options)\u001b[0m\n\u001b[0;32m    437\u001b[0m                 \u001b[1;34m'args'\u001b[0m\u001b[1;33m:\u001b[0m \u001b[0mmin\u001b[0m\u001b[1;33m(\u001b[0m\u001b[0mcls\u001b[0m\u001b[1;33m.\u001b[0m\u001b[0mnargs\u001b[0m\u001b[1;33m)\u001b[0m\u001b[1;33m,\u001b[0m\u001b[1;33m\u001b[0m\u001b[1;33m\u001b[0m\u001b[0m\n\u001b[0;32m    438\u001b[0m                 \u001b[1;34m'plural'\u001b[0m\u001b[1;33m:\u001b[0m \u001b[1;34m's'\u001b[0m\u001b[1;33m*\u001b[0m\u001b[1;33m(\u001b[0m\u001b[0mmin\u001b[0m\u001b[1;33m(\u001b[0m\u001b[0mcls\u001b[0m\u001b[1;33m.\u001b[0m\u001b[0mnargs\u001b[0m\u001b[1;33m)\u001b[0m \u001b[1;33m!=\u001b[0m \u001b[1;36m1\u001b[0m\u001b[1;33m)\u001b[0m\u001b[1;33m,\u001b[0m\u001b[1;33m\u001b[0m\u001b[1;33m\u001b[0m\u001b[0m\n\u001b[1;32m--> 439\u001b[1;33m                 'given': n})\n\u001b[0m\u001b[0;32m    440\u001b[0m \u001b[1;33m\u001b[0m\u001b[0m\n\u001b[0;32m    441\u001b[0m         \u001b[0mevaluate\u001b[0m \u001b[1;33m=\u001b[0m \u001b[0moptions\u001b[0m\u001b[1;33m.\u001b[0m\u001b[0mget\u001b[0m\u001b[1;33m(\u001b[0m\u001b[1;34m'evaluate'\u001b[0m\u001b[1;33m,\u001b[0m \u001b[0mglobal_evaluate\u001b[0m\u001b[1;33m[\u001b[0m\u001b[1;36m0\u001b[0m\u001b[1;33m]\u001b[0m\u001b[1;33m)\u001b[0m\u001b[1;33m\u001b[0m\u001b[1;33m\u001b[0m\u001b[0m\n",
      "\u001b[1;31mTypeError\u001b[0m: factorial takes exactly 1 argument (0 given)"
     ],
     "output_type": "error"
    }
   ],
   "source": [
    "\n"
   ]
  },
  {
   "cell_type": "code",
   "execution_count": 36,
   "metadata": {},
   "outputs": [
    {
     "name": "stdout",
     "output_type": "stream",
     "text": [
      "10\n"
     ]
    }
   ],
   "source": []
  },
  {
   "cell_type": "code",
   "execution_count": null,
   "metadata": {},
   "outputs": [],
   "source": []
  }
 ],
 "metadata": {
  "colab": {
   "collapsed_sections": [],
   "name": "exakte_linearisierung_EA.ipynb",
   "provenance": [],
   "version": "0.3.2"
  },
  "kernelspec": {
   "display_name": "Python 3",
   "language": "python",
   "name": "python3"
  },
  "language_info": {
   "codemirror_mode": {
    "name": "ipython",
    "version": 3
   },
   "file_extension": ".py",
   "mimetype": "text/x-python",
   "name": "python",
   "nbconvert_exporter": "python",
   "pygments_lexer": "ipython3",
   "version": "3.7.2"
  }
 },
 "nbformat": 4,
 "nbformat_minor": 1
}
