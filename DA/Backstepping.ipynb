{
 "cells": [
  {
   "cell_type": "code",
   "execution_count": 20,
   "metadata": {},
   "outputs": [],
   "source": [
    "import sympy as sp\n",
    "import symbtools as st\n"
   ]
  },
  {
   "cell_type": "code",
   "execution_count": 21,
   "metadata": {},
   "outputs": [
    {
     "name": "stdout",
     "output_type": "stream",
     "text": [
      "(x1, x2, x3) u_pwm\n"
     ]
    }
   ],
   "source": [
    "x1, x2, x3= xx = sp.symbols('x1:4') \n",
    "u = sp.Symbol(\"u_pwm\")\n",
    "print(xx,u)"
   ]
  },
  {
   "cell_type": "code",
   "execution_count": 22,
   "metadata": {},
   "outputs": [],
   "source": [
    "#A_B,A_SP,m,g,T_M,k_M,k_V,k_L,eta_0,h_ub, h_lb,eta_ub,eta_lb,T,N_pred,state_r,input_r,h,h_p,eta,u_pwm = sp.symbols('A_B,A_SP,m,g,T_M,k_M,k_V,k_L,eta_0,h_ub, h_lb,eta_ub,eta_lb,T,N_pred,state_r,input_r,h,h_p,eta,u_pwm')\n",
    "A_B= 2.8274e-3  # [m**2]\n",
    "A_SP = 0.4299e-3  # [m**2]\n",
    "m = 2.8e-3  # [kg]\n",
    "g = 9.81  # [m/(s**2)]\n",
    "T_M = 0.57  # [s]\n",
    "k_M = 0.31  # [s**-1]\n",
    "k_V = 6e-5  # [m**3]\n",
    "k_L = 2.18e-4  # [kg/m]\n",
    "eta_0 = 1900 / 60  # / 60 * 2 * pi\n",
    "h_r,h_pr,eta_r=sp.symbols('h_r,h_pr,eta_r')\n",
    "x1_r=0.8"
   ]
  },
  {
   "cell_type": "code",
   "execution_count": 23,
   "metadata": {},
   "outputs": [
    {
     "name": "stdout",
     "output_type": "stream",
     "text": [
      "Matrix([[x2], [0.0778571428571429*(-6.57687834380088*x2 + 0.139567341242149*x3 + 4.41963247266806)**2 - 9.81], [-1.75438596491228*x3]])\n"
     ]
    }
   ],
   "source": [
    "f = sp.Matrix([x2, k_L / m * ((k_V * (x3 + eta_0) - A_B * x2) / A_SP)**2 - g, -1 / T_M * x3 ])\n",
    "print(f)"
   ]
  },
  {
   "cell_type": "code",
   "execution_count": 24,
   "metadata": {},
   "outputs": [
    {
     "name": "stdout",
     "output_type": "stream",
     "text": [
      "Matrix([[0], [0], [0.543859649122807]])\n"
     ]
    }
   ],
   "source": [
    "g = sp.Matrix([0, 0,  k_M / T_M ])\n",
    "print(g)"
   ]
  },
  {
   "cell_type": "code",
   "execution_count": 25,
   "metadata": {},
   "outputs": [
    {
     "name": "stdout",
     "output_type": "stream",
     "text": [
      "Matrix([[x2], [0.0778571428571429*(-6.57687834380088*x2 + 0.139567341242149*x3 + 4.41963247266806)**2 - 9.81], [0.543859649122807*u_pwm - 1.75438596491228*x3]])\n"
     ]
    }
   ],
   "source": [
    "sys=f+g*u\n",
    "print(sys)"
   ]
  },
  {
   "cell_type": "code",
   "execution_count": 26,
   "metadata": {},
   "outputs": [],
   "source": [
    "y=h=x1\n",
    "y_r=0.8"
   ]
  },
  {
   "cell_type": "markdown",
   "metadata": {},
   "source": [
    "Fiktiver Eingang $\\alpha_1(x)$"
   ]
  },
  {
   "cell_type": "code",
   "execution_count": 51,
   "metadata": {},
   "outputs": [
    {
     "name": "stdout",
     "output_type": "stream",
     "text": [
      "x1_p\n"
     ]
    }
   ],
   "source": [
    "alpha_1=sp.Symbol('alpha_1')\n",
    "x1_p=sp.Symbol('x1_p')\n",
    "print(x1_p)"
   ]
  },
  {
   "cell_type": "code",
   "execution_count": 52,
   "metadata": {},
   "outputs": [],
   "source": [
    "V1=1/2*(x1-x1_r)**2\n"
   ]
  },
  {
   "cell_type": "code",
   "execution_count": 53,
   "metadata": {},
   "outputs": [
    {
     "name": "stdout",
     "output_type": "stream",
     "text": [
      "x1_p*(x1 - 0.8)\n"
     ]
    }
   ],
   "source": [
    "V1_p=x1_p*(x1-x1_r)\n",
    "print(V1_p)"
   ]
  },
  {
   "cell_type": "markdown",
   "metadata": {},
   "source": [
    "Choose $\\alpha_1 = -k_1(x_1-x_{1r})$ "
   ]
  },
  {
   "cell_type": "code",
   "execution_count": 54,
   "metadata": {},
   "outputs": [
    {
     "name": "stdout",
     "output_type": "stream",
     "text": [
      "-k_1*(x1 - 0.8)\n"
     ]
    }
   ],
   "source": [
    "k_1=sp.Symbol('k_1')\n",
    "alpha_1=-k_1*(x1-x1_r)\n",
    "print(alpha_1)"
   ]
  },
  {
   "cell_type": "code",
   "execution_count": 58,
   "metadata": {},
   "outputs": [
    {
     "name": "stdout",
     "output_type": "stream",
     "text": [
      "-k_1*(x1 - 0.8)**2\n"
     ]
    }
   ],
   "source": [
    "V1_p=x1_p*(x1-x1_r)\n",
    "print(V1_p.subs([(x1_p,alpha_1)]))"
   ]
  },
  {
   "cell_type": "markdown",
   "metadata": {},
   "source": [
    "Schritt 2: Fehler $z_2=x_2-\\alpha_1(x_1)$ für\n",
    "neue Koordinaten"
   ]
  },
  {
   "cell_type": "code",
   "execution_count": 65,
   "metadata": {},
   "outputs": [
    {
     "name": "stdout",
     "output_type": "stream",
     "text": [
      "z2 k_1*(x1 - 0.8) + x2\n",
      "x1_p -k_1*(x1 - 0.8) + z2\n"
     ]
    }
   ],
   "source": [
    "z2=sp.Symbol('z2')\n",
    "x1_p=z2+alpha_1\n",
    "z2=x2-alpha_1\n",
    "print(\"z2\",z2)\n",
    "print(\"x1_p\",x1_p)"
   ]
  },
  {
   "cell_type": "markdown",
   "metadata": {},
   "source": [
    "Schritt 3: Fiktiver Eingang $\\alpha_2(x1,z2)$"
   ]
  },
  {
   "cell_type": "code",
   "execution_count": null,
   "metadata": {},
   "outputs": [],
   "source": [
    "z2_p78\n",
    "z2_p"
   ]
  }
 ],
 "metadata": {
  "kernelspec": {
   "display_name": "Python 3",
   "language": "python",
   "name": "python3"
  },
  "language_info": {
   "codemirror_mode": {
    "name": "ipython",
    "version": 3
   },
   "file_extension": ".py",
   "mimetype": "text/x-python",
   "name": "python",
   "nbconvert_exporter": "python",
   "pygments_lexer": "ipython3",
   "version": "3.7.2"
  }
 },
 "nbformat": 4,
 "nbformat_minor": 2
}
